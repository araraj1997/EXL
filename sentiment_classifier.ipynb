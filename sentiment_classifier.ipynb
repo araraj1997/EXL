{
 "cells": [
  {
   "cell_type": "code",
   "execution_count": 4,
   "metadata": {},
   "outputs": [
    {
     "data": {
      "text/html": [
       "<div>\n",
       "<style scoped>\n",
       "    .dataframe tbody tr th:only-of-type {\n",
       "        vertical-align: middle;\n",
       "    }\n",
       "\n",
       "    .dataframe tbody tr th {\n",
       "        vertical-align: top;\n",
       "    }\n",
       "\n",
       "    .dataframe thead th {\n",
       "        text-align: right;\n",
       "    }\n",
       "</style>\n",
       "<table border=\"1\" class=\"dataframe\">\n",
       "  <thead>\n",
       "    <tr style=\"text-align: right;\">\n",
       "      <th></th>\n",
       "      <th>filename</th>\n",
       "      <th>review</th>\n",
       "      <th>label</th>\n",
       "    </tr>\n",
       "  </thead>\n",
       "  <tbody>\n",
       "    <tr>\n",
       "      <th>0</th>\n",
       "      <td>9357_7.txt</td>\n",
       "      <td>In New York family man dentist Alan Johnson ( ...</td>\n",
       "      <td>1</td>\n",
       "    </tr>\n",
       "    <tr>\n",
       "      <th>1</th>\n",
       "      <td>7433_10.txt</td>\n",
       "      <td>My mom took see movie came around Christmas I ...</td>\n",
       "      <td>1</td>\n",
       "    </tr>\n",
       "    <tr>\n",
       "      <th>2</th>\n",
       "      <td>8449_9.txt</td>\n",
       "      <td>I became fan TV series Homicide Life Street la...</td>\n",
       "      <td>1</td>\n",
       "    </tr>\n",
       "    <tr>\n",
       "      <th>3</th>\n",
       "      <td>3294_9.txt</td>\n",
       "      <td>This film opened poor showings first weeks The...</td>\n",
       "      <td>1</td>\n",
       "    </tr>\n",
       "    <tr>\n",
       "      <th>4</th>\n",
       "      <td>174_7.txt</td>\n",
       "      <td>Sunny cocktail waitress DC area bit dim put mi...</td>\n",
       "      <td>1</td>\n",
       "    </tr>\n",
       "  </tbody>\n",
       "</table>\n",
       "</div>"
      ],
      "text/plain": [
       "      filename                                             review  label\n",
       "0   9357_7.txt  In New York family man dentist Alan Johnson ( ...      1\n",
       "1  7433_10.txt  My mom took see movie came around Christmas I ...      1\n",
       "2   8449_9.txt  I became fan TV series Homicide Life Street la...      1\n",
       "3   3294_9.txt  This film opened poor showings first weeks The...      1\n",
       "4    174_7.txt  Sunny cocktail waitress DC area bit dim put mi...      1"
      ]
     },
     "execution_count": 4,
     "metadata": {},
     "output_type": "execute_result"
    }
   ],
   "source": [
    "import pandas as pd\n",
    "\n",
    "data_pos = pd.read_csv('positive_train.csv')\n",
    "data_pos.head()"
   ]
  },
  {
   "cell_type": "code",
   "execution_count": 5,
   "metadata": {},
   "outputs": [
    {
     "name": "stdout",
     "output_type": "stream",
     "text": [
      "      filename                                             review  label\n",
      "0   8060_1.txt  What bad bad movie I tried watching without fa...      0\n",
      "1   4852_1.txt  I saw movie I thought OK Then friends work sai...      0\n",
      "2   4472_1.txt  A Smile LIke Yours pathetic comedy actually ma...      0\n",
      "3   6565_2.txt  This movie chilling reminder Bollywood parasit...      0\n",
      "4  10236_1.txt  Absolutely fantastic br br Now legion cinema p...      0\n",
      "('size of neg data: ', 12500)\n",
      "('size of pos data: ', 12503)\n"
     ]
    }
   ],
   "source": [
    "\n",
    "data_neg = pd.read_csv('negative_train.csv')\n",
    "print(data_neg.head())\n",
    "print(\"size of neg data: \" ,data_neg.shape[0])\n",
    "print(\"size of pos data: \" ,data_pos.shape[0])"
   ]
  },
  {
   "cell_type": "code",
   "execution_count": 6,
   "metadata": {},
   "outputs": [
    {
     "name": "stdout",
     "output_type": "stream",
     "text": [
      "         filename                                             review  label\n",
      "24998  1583_1.txt  I big fan Stephen King I loved The Running Man...      0\n",
      "24999  9387_1.txt  I saw film first released The memory bad staye...      0\n",
      "25000  9908_3.txt  I gave stars possible stories openended left u...      0\n",
      "25001  6897_1.txt  I see film makers going But never really reach...      0\n",
      "25002  1264_3.txt  This movie doesnt awful lot predecessor Robot ...      0\n"
     ]
    }
   ],
   "source": [
    "data = pd.concat([data_pos,data_neg],ignore_index = True)\n",
    "print(data.tail())\n"
   ]
  },
  {
   "cell_type": "code",
   "execution_count": 14,
   "metadata": {},
   "outputs": [],
   "source": [
    "data.to_csv(r\"/home/aravind/Desktop/movie_review_nlp/train.csv\",index = False)"
   ]
  },
  {
   "cell_type": "code",
   "execution_count": 9,
   "metadata": {},
   "outputs": [],
   "source": [
    "import nltk\n",
    "from sklearn.feature_extraction.text import CountVectorizer  \n",
    "vectorizer = CountVectorizer(max_features=1500, min_df=5, max_df=0.7)  \n",
    "X = vectorizer.fit_transform(data['review']).toarray()"
   ]
  },
  {
   "cell_type": "code",
   "execution_count": 10,
   "metadata": {},
   "outputs": [],
   "source": [
    "from sklearn.feature_extraction.text import TfidfTransformer  \n",
    "tfidfconverter = TfidfTransformer()  \n",
    "X = tfidfconverter.fit_transform(X).toarray()"
   ]
  },
  {
   "cell_type": "code",
   "execution_count": 11,
   "metadata": {},
   "outputs": [],
   "source": [
    "from sklearn.model_selection import train_test_split  \n",
    "X_train, X_test, y_train, y_test = train_test_split(X, data['label'], test_size=0.3, random_state=0)  "
   ]
  },
  {
   "cell_type": "code",
   "execution_count": 12,
   "metadata": {},
   "outputs": [
    {
     "data": {
      "text/plain": [
       "RandomForestClassifier(bootstrap=True, class_weight=None, criterion='gini',\n",
       "            max_depth=None, max_features='auto', max_leaf_nodes=None,\n",
       "            min_impurity_decrease=0.0, min_impurity_split=None,\n",
       "            min_samples_leaf=1, min_samples_split=2,\n",
       "            min_weight_fraction_leaf=0.0, n_estimators=1000, n_jobs=1,\n",
       "            oob_score=False, random_state=0, verbose=0, warm_start=False)"
      ]
     },
     "execution_count": 12,
     "metadata": {},
     "output_type": "execute_result"
    }
   ],
   "source": [
    "from sklearn.ensemble import RandomForestClassifier\n",
    "classifier = RandomForestClassifier(n_estimators=1000, random_state=0)  \n",
    "classifier.fit(X_train, y_train)  "
   ]
  },
  {
   "cell_type": "code",
   "execution_count": 13,
   "metadata": {},
   "outputs": [
    {
     "name": "stdout",
     "output_type": "stream",
     "text": [
      "[[3161  589]\n",
      " [ 604 3147]]\n",
      "             precision    recall  f1-score   support\n",
      "\n",
      "          0       0.84      0.84      0.84      3750\n",
      "          1       0.84      0.84      0.84      3751\n",
      "\n",
      "avg / total       0.84      0.84      0.84      7501\n",
      "\n",
      "0.8409545393947474\n"
     ]
    }
   ],
   "source": [
    "y_pred = classifier.predict(X_test)  \n",
    "from sklearn.metrics import classification_report, confusion_matrix, accuracy_score\n",
    "\n",
    "print(confusion_matrix(y_test,y_pred))  \n",
    "print(classification_report(y_test,y_pred))  \n",
    "print(accuracy_score(y_test, y_pred)) "
   ]
  }
 ],
 "metadata": {
  "kernelspec": {
   "display_name": "Python 2",
   "language": "python",
   "name": "python2"
  },
  "language_info": {
   "codemirror_mode": {
    "name": "ipython",
    "version": 2
   },
   "file_extension": ".py",
   "mimetype": "text/x-python",
   "name": "python",
   "nbconvert_exporter": "python",
   "pygments_lexer": "ipython2",
   "version": "2.7.14"
  }
 },
 "nbformat": 4,
 "nbformat_minor": 2
}
